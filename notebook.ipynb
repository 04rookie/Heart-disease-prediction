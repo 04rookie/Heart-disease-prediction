{
 "cells": [
  {
   "cell_type": "code",
   "execution_count": 1,
   "id": "suburban-universe",
   "metadata": {},
   "outputs": [],
   "source": [
    "# for array operations\n",
    "import numpy as np\n",
    "# for visualizing data\n",
    "import matplotlib.pyplot as plt\n",
    "# for using dataframe\n",
    "import pandas as pd\n",
    "# for splitting the data into train and test sets\n",
    "from sklearn.model_selection import train_test_split\n",
    "# for applying feature scaling\n",
    "from sklearn.preprocessing import StandardScaler\n",
    "# For calculating metrics and visualizing prediction related metrics\n",
    "from sklearn.metrics import confusion_matrix\n",
    "from sklearn.metrics import classification_report\n",
    "from sklearn.metrics import plot_confusion_matrix\n",
    "from sklearn.pipeline import make_pipeline\n",
    "#importing SVM classifier\n",
    "from sklearn.svm import SVC"
   ]
  },
  {
   "cell_type": "code",
   "execution_count": 2,
   "id": "false-science",
   "metadata": {},
   "outputs": [],
   "source": [
    "#reading the data\n",
    "dataset = pd.read_csv(\"heart.csv\")"
   ]
  },
  {
   "cell_type": "code",
   "execution_count": 3,
   "id": "passing-burst",
   "metadata": {},
   "outputs": [
    {
     "name": "stdout",
     "output_type": "stream",
     "text": [
      "   Age Sex ChestPainType  RestingBP  Cholesterol  FastingBS RestingECG  MaxHR  \\\n",
      "0   40   M           ATA        140          289          0     Normal    172   \n",
      "1   49   F           NAP        160          180          0     Normal    156   \n",
      "2   37   M           ATA        130          283          0         ST     98   \n",
      "3   48   F           ASY        138          214          0     Normal    108   \n",
      "4   54   M           NAP        150          195          0     Normal    122   \n",
      "\n",
      "  ExerciseAngina  Oldpeak ST_Slope  HeartDisease  \n",
      "0              N      0.0       Up             0  \n",
      "1              N      1.0     Flat             1  \n",
      "2              N      0.0       Up             0  \n",
      "3              Y      1.5     Flat             1  \n",
      "4              N      0.0       Up             0  \n"
     ]
    }
   ],
   "source": [
    "print(dataset.head())"
   ]
  },
  {
   "cell_type": "code",
   "execution_count": 4,
   "id": "independent-speaking",
   "metadata": {},
   "outputs": [],
   "source": [
    "X = dataset.iloc[:,:11]"
   ]
  },
  {
   "cell_type": "code",
   "execution_count": 5,
   "id": "loving-adaptation",
   "metadata": {},
   "outputs": [
    {
     "name": "stdout",
     "output_type": "stream",
     "text": [
      "   Age Sex ChestPainType  RestingBP  Cholesterol  FastingBS RestingECG  MaxHR  \\\n",
      "0   40   M           ATA        140          289          0     Normal    172   \n",
      "1   49   F           NAP        160          180          0     Normal    156   \n",
      "2   37   M           ATA        130          283          0         ST     98   \n",
      "3   48   F           ASY        138          214          0     Normal    108   \n",
      "4   54   M           NAP        150          195          0     Normal    122   \n",
      "\n",
      "  ExerciseAngina  Oldpeak ST_Slope  \n",
      "0              N      0.0       Up  \n",
      "1              N      1.0     Flat  \n",
      "2              N      0.0       Up  \n",
      "3              Y      1.5     Flat  \n",
      "4              N      0.0       Up  \n"
     ]
    }
   ],
   "source": [
    "print(X.head())"
   ]
  },
  {
   "cell_type": "code",
   "execution_count": 6,
   "id": "geological-married",
   "metadata": {},
   "outputs": [],
   "source": [
    "y = dataset.iloc[:,11]"
   ]
  },
  {
   "cell_type": "code",
   "execution_count": 7,
   "id": "accomplished-support",
   "metadata": {},
   "outputs": [
    {
     "name": "stdout",
     "output_type": "stream",
     "text": [
      "0    0\n",
      "1    1\n",
      "2    0\n",
      "3    1\n",
      "4    0\n",
      "Name: HeartDisease, dtype: int64\n"
     ]
    }
   ],
   "source": [
    "print(y.head())"
   ]
  },
  {
   "cell_type": "code",
   "execution_count": 8,
   "id": "destroyed-ancient",
   "metadata": {},
   "outputs": [],
   "source": [
    "#Creating a classifier from make_pipeline which applies scalling for each column for us. Using SVC classifier\n",
    "clf = make_pipeline(StandardScaler(), SVC(gamma='auto'))"
   ]
  },
  {
   "cell_type": "code",
   "execution_count": 9,
   "id": "choice-salmon",
   "metadata": {},
   "outputs": [
    {
     "name": "stdout",
     "output_type": "stream",
     "text": [
      "0    0\n",
      "1    1\n",
      "2    0\n",
      "3    1\n",
      "4    0\n",
      "Name: Sex, dtype: int64\n"
     ]
    }
   ],
   "source": [
    "#Encoding strings to integers types based on unique values\n",
    "sex_map = {'M':0, 'F':1}\n",
    "X['Sex']= X['Sex'].map(sex_map)\n",
    "print(X['Sex'].head())"
   ]
  },
  {
   "cell_type": "code",
   "execution_count": 10,
   "id": "least-charlotte",
   "metadata": {},
   "outputs": [
    {
     "name": "stdout",
     "output_type": "stream",
     "text": [
      "4\n",
      "['ATA' 'NAP' 'ASY' 'TA']\n"
     ]
    }
   ],
   "source": [
    "#Finding length and pritning all unique values\n",
    "print(len(pd.unique(X['ChestPainType'])))\n",
    "print(pd.unique(X['ChestPainType']))"
   ]
  },
  {
   "cell_type": "code",
   "execution_count": 11,
   "id": "robust-halloween",
   "metadata": {},
   "outputs": [
    {
     "name": "stdout",
     "output_type": "stream",
     "text": [
      "0    0\n",
      "1    1\n",
      "2    0\n",
      "3    2\n",
      "4    1\n",
      "Name: ChestPainType, dtype: int64\n"
     ]
    }
   ],
   "source": [
    "#Encoding strings to integers types based on unique values\n",
    "chestPainType_map = {'ATA':0, 'NAP':1, 'ASY':2, 'TA':3}\n",
    "X['ChestPainType']= X['ChestPainType'].map(chestPainType_map)\n",
    "print(X['ChestPainType'].head())"
   ]
  },
  {
   "cell_type": "code",
   "execution_count": 12,
   "id": "julian-convergence",
   "metadata": {},
   "outputs": [
    {
     "name": "stdout",
     "output_type": "stream",
     "text": [
      "3\n",
      "['Normal' 'ST' 'LVH']\n"
     ]
    }
   ],
   "source": [
    "#Encoding strings to integers types based on unique values\n",
    "print(len(pd.unique(X['RestingECG'])))\n",
    "print(pd.unique(X['RestingECG']))"
   ]
  },
  {
   "cell_type": "code",
   "execution_count": 13,
   "id": "blond-separation",
   "metadata": {},
   "outputs": [
    {
     "name": "stdout",
     "output_type": "stream",
     "text": [
      "0    0\n",
      "1    0\n",
      "2    1\n",
      "3    0\n",
      "4    0\n",
      "Name: RestingECG, dtype: int64\n"
     ]
    }
   ],
   "source": [
    "#Encoding strings to integers types based on unique values\n",
    "restingECG_map = {'Normal':0, 'ST':1, 'LVH':2}\n",
    "X['RestingECG']= X['RestingECG'].map(restingECG_map)\n",
    "print(X['RestingECG'].head())"
   ]
  },
  {
   "cell_type": "code",
   "execution_count": 14,
   "id": "immune-thriller",
   "metadata": {},
   "outputs": [
    {
     "name": "stdout",
     "output_type": "stream",
     "text": [
      "2\n",
      "['N' 'Y']\n"
     ]
    }
   ],
   "source": [
    "#Encoding strings to integers types based on unique values\n",
    "print(len(pd.unique(X['ExerciseAngina'])))\n",
    "print(pd.unique(X['ExerciseAngina']))"
   ]
  },
  {
   "cell_type": "code",
   "execution_count": 15,
   "id": "aquatic-grammar",
   "metadata": {},
   "outputs": [
    {
     "name": "stdout",
     "output_type": "stream",
     "text": [
      "0    0\n",
      "1    0\n",
      "2    0\n",
      "3    1\n",
      "4    0\n",
      "Name: ExerciseAngina, dtype: int64\n"
     ]
    }
   ],
   "source": [
    "#Encoding strings to integers types based on unique values\n",
    "exerciseAngina_map = {'N':0, 'Y':1}\n",
    "X['ExerciseAngina']= X['ExerciseAngina'].map(exerciseAngina_map)\n",
    "print(X['ExerciseAngina'].head())"
   ]
  },
  {
   "cell_type": "code",
   "execution_count": 16,
   "id": "warming-heritage",
   "metadata": {},
   "outputs": [
    {
     "name": "stdout",
     "output_type": "stream",
     "text": [
      "3\n",
      "['Up' 'Flat' 'Down']\n"
     ]
    }
   ],
   "source": [
    "#Encoding strings to integers types based on unique values\n",
    "print(len(pd.unique(X['ST_Slope'])))\n",
    "print(pd.unique(X['ST_Slope']))"
   ]
  },
  {
   "cell_type": "code",
   "execution_count": 17,
   "id": "compound-direction",
   "metadata": {},
   "outputs": [
    {
     "name": "stdout",
     "output_type": "stream",
     "text": [
      "0    1\n",
      "1    0\n",
      "2    1\n",
      "3    0\n",
      "4    1\n",
      "Name: ST_Slope, dtype: int64\n"
     ]
    }
   ],
   "source": [
    "#Encoding strings to integers types based on unique values\n",
    "ST_Slope_map = {'Up':1, 'Flat':0, 'Down':-1}\n",
    "X['ST_Slope']= X['ST_Slope'].map(ST_Slope_map)\n",
    "print(X['ST_Slope'].head())"
   ]
  },
  {
   "cell_type": "code",
   "execution_count": 18,
   "id": "voluntary-input",
   "metadata": {},
   "outputs": [
    {
     "name": "stdout",
     "output_type": "stream",
     "text": [
      "   Age  Sex  ChestPainType  RestingBP  Cholesterol  FastingBS  RestingECG  \\\n",
      "0   40    0              0        140          289          0           0   \n",
      "1   49    1              1        160          180          0           0   \n",
      "2   37    0              0        130          283          0           1   \n",
      "3   48    1              2        138          214          0           0   \n",
      "4   54    0              1        150          195          0           0   \n",
      "\n",
      "   MaxHR  ExerciseAngina  Oldpeak  ST_Slope  \n",
      "0    172               0      0.0         1  \n",
      "1    156               0      1.0         0  \n",
      "2     98               0      0.0         1  \n",
      "3    108               1      1.5         0  \n",
      "4    122               0      0.0         1  \n"
     ]
    }
   ],
   "source": [
    "print(X.head())"
   ]
  },
  {
   "cell_type": "code",
   "execution_count": 19,
   "id": "injured-influence",
   "metadata": {},
   "outputs": [],
   "source": [
    "# splitting the data\n",
    "X_train, X_test, y_train, y_test = train_test_split(X,y,test_size=.25,random_state=0)"
   ]
  },
  {
   "cell_type": "code",
   "execution_count": 20,
   "id": "progressive-jurisdiction",
   "metadata": {},
   "outputs": [
    {
     "data": {
      "text/plain": [
       "Pipeline(steps=[('standardscaler', StandardScaler()),\n",
       "                ('svc', SVC(gamma='auto'))])"
      ]
     },
     "execution_count": 20,
     "metadata": {},
     "output_type": "execute_result"
    }
   ],
   "source": [
    "#Training the model based on training data set\n",
    "clf.fit(X_train, y_train)"
   ]
  },
  {
   "cell_type": "code",
   "execution_count": 21,
   "id": "stylish-teens",
   "metadata": {},
   "outputs": [
    {
     "data": {
      "text/plain": [
       "0.8521739130434782"
      ]
     },
     "execution_count": 21,
     "metadata": {},
     "output_type": "execute_result"
    }
   ],
   "source": [
    "#Testing the score of trained model based on test data set\n",
    "clf.score(X_test, y_test)"
   ]
  },
  {
   "cell_type": "code",
   "execution_count": 22,
   "id": "inner-accused",
   "metadata": {},
   "outputs": [],
   "source": [
    "#storing the predicted values in a series\n",
    "pred = clf.predict(X_test)"
   ]
  },
  {
   "cell_type": "code",
   "execution_count": 23,
   "id": "burning-affairs",
   "metadata": {},
   "outputs": [],
   "source": [
    "#Making a confusion matrix based on y_test(actual data) and pred(predicted data)\n",
    "matrix = confusion_matrix(y_test,pred, labels=[1,0])"
   ]
  },
  {
   "cell_type": "code",
   "execution_count": 24,
   "id": "sophisticated-capital",
   "metadata": {},
   "outputs": [],
   "source": [
    "#Counting true positive, false negative, false positive, true negative\n",
    "tp, fn, fp, tn = confusion_matrix(y_test,pred,labels=[1,0]).reshape(-1)"
   ]
  },
  {
   "cell_type": "code",
   "execution_count": 25,
   "id": "further-magnet",
   "metadata": {},
   "outputs": [
    {
     "name": "stdout",
     "output_type": "stream",
     "text": [
      "Outcome values : \n",
      " 126 12 22 70\n"
     ]
    }
   ],
   "source": [
    "print('Outcome values : \\n', tp, fn, fp, tn)"
   ]
  },
  {
   "cell_type": "code",
   "execution_count": 26,
   "id": "religious-polish",
   "metadata": {
    "scrolled": true
   },
   "outputs": [
    {
     "name": "stdout",
     "output_type": "stream",
     "text": [
      "Classification report : \n",
      "               precision    recall  f1-score   support\n",
      "\n",
      "           1       0.85      0.91      0.88       138\n",
      "           0       0.85      0.76      0.80        92\n",
      "\n",
      "    accuracy                           0.85       230\n",
      "   macro avg       0.85      0.84      0.84       230\n",
      "weighted avg       0.85      0.85      0.85       230\n",
      "\n"
     ]
    }
   ],
   "source": [
    "#Calculating accuracy, precision, f1-score, recall\n",
    "matrix = classification_report(y_test,pred,labels=[1,0])\n",
    "print('Classification report : \\n',matrix)"
   ]
  },
  {
   "cell_type": "code",
   "execution_count": 27,
   "id": "respected-disclosure",
   "metadata": {},
   "outputs": [
    {
     "data": {
      "image/png": "[encoded data removed]",
      "text/plain": [
       "<Figure size 432x288 with 2 Axes>"
      ]
     },
     "metadata": {
      "needs_background": "light"
     },
     "output_type": "display_data"
    }
   ],
   "source": [
    "#Plotting a confusion matrix for better visualization\n",
    "plot_confusion_matrix(clf, X_test, y_test)\n",
    "plt.show()"
   ]
  },
  {
   "cell_type": "code",
   "execution_count": 28,
   "id": "detailed-brooklyn",
   "metadata": {},
   "outputs": [],
   "source": [
    "# using MLP classfier to map input to an output\n",
    "from sklearn.neural_network import MLPClassifier"
   ]
  },
  {
   "cell_type": "code",
   "execution_count": 29,
   "id": "fossil-python",
   "metadata": {},
   "outputs": [],
   "source": [
    "# using scaler to feature scale, helps in faster cost reductions per iteration.\n",
    "sc_X=StandardScaler()\n",
    "X_train=sc_X.fit_transform(X_train)\n",
    "X_test=sc_X.transform(X_test)"
   ]
  },
  {
   "cell_type": "code",
   "execution_count": 30,
   "id": "fixed-nebraska",
   "metadata": {},
   "outputs": [],
   "source": [
    "# creating a classifier object with certain parameters\n",
    "# such as alpha, perceptron architecture, random state and max iterations\n",
    "clf = MLPClassifier(solver='lbfgs', alpha=1e-5, hidden_layer_sizes=(3,2),random_state=1,max_iter=1000)"
   ]
  },
  {
   "cell_type": "code",
   "execution_count": 31,
   "id": "upper-edwards",
   "metadata": {},
   "outputs": [
    {
     "data": {
      "text/plain": [
       "0.8434782608695652"
      ]
     },
     "execution_count": 31,
     "metadata": {},
     "output_type": "execute_result"
    }
   ],
   "source": [
    "# passing the data to the classfier for training\n",
    "clf.fit(X_train,y_train)\n",
    "#Testing the score of trained model based on test data set\n",
    "clf.score(X_test, y_test)"
   ]
  },
  {
   "cell_type": "code",
   "execution_count": 32,
   "id": "irish-manual",
   "metadata": {},
   "outputs": [],
   "source": [
    "# After training, testing the newly learned model with new test set inputs storing them in pred\n",
    "pred=clf.predict(X_test)"
   ]
  },
  {
   "cell_type": "code",
   "execution_count": 33,
   "id": "sitting-ethiopia",
   "metadata": {},
   "outputs": [
    {
     "data": {
      "image/png": "[encoded data removed]",
      "text/plain": [
       "<Figure size 432x288 with 2 Axes>"
      ]
     },
     "metadata": {
      "needs_background": "light"
     },
     "output_type": "display_data"
    }
   ],
   "source": [
    "#Plotting a confusion matrix for better visualization\n",
    "plot_confusion_matrix(clf, X_test, y_test)\n",
    "plt.show()"
   ]
  },
  {
   "cell_type": "code",
   "execution_count": 34,
   "id": "detected-piano",
   "metadata": {},
   "outputs": [],
   "source": [
    "#Making a confusion matrix based on y_test(actual data) and pred(predicted data)\n",
    "matrix = confusion_matrix(y_test,pred, labels=[1,0])"
   ]
  },
  {
   "cell_type": "code",
   "execution_count": 35,
   "id": "starting-westminster",
   "metadata": {},
   "outputs": [],
   "source": [
    "#Counting true positive, false negative, false positive, true negative\n",
    "tp, fn, fp, tn = confusion_matrix(y_test,pred,labels=[1,0]).reshape(-1)"
   ]
  },
  {
   "cell_type": "code",
   "execution_count": 36,
   "id": "fancy-minister",
   "metadata": {},
   "outputs": [
    {
     "name": "stdout",
     "output_type": "stream",
     "text": [
      "Outcome values : \n",
      " 124 14 22 70\n"
     ]
    }
   ],
   "source": [
    "print('Outcome values : \\n', tp, fn, fp, tn)"
   ]
  },
  {
   "cell_type": "code",
   "execution_count": 37,
   "id": "typical-reading",
   "metadata": {},
   "outputs": [
    {
     "name": "stdout",
     "output_type": "stream",
     "text": [
      "Classification report : \n",
      "               precision    recall  f1-score   support\n",
      "\n",
      "           1       0.85      0.90      0.87       138\n",
      "           0       0.83      0.76      0.80        92\n",
      "\n",
      "    accuracy                           0.84       230\n",
      "   macro avg       0.84      0.83      0.83       230\n",
      "weighted avg       0.84      0.84      0.84       230\n",
      "\n"
     ]
    }
   ],
   "source": [
    "#Calculating accuracy, precision, f1-score, recall\n",
    "matrix = classification_report(y_test,pred,labels=[1,0])\n",
    "print('Classification report : \\n',matrix)"
   ]
  }
 ],
 "metadata": {
  "kernelspec": {
   "display_name": "Python 3",
   "language": "python",
   "name": "python3"
  },
  "language_info": {
   "codemirror_mode": {
    "name": "ipython",
    "version": 3
   },
   "file_extension": ".py",
   "mimetype": "text/x-python",
   "name": "python",
   "nbconvert_exporter": "python",
   "pygments_lexer": "ipython3",
   "version": "3.8.8"
  }
 },
 "nbformat": 4,
 "nbformat_minor": 5
}
